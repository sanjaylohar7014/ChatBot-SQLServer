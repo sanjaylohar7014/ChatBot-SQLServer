{
 "cells": [
  {
   "cell_type": "code",
   "execution_count": 1,
   "metadata": {},
   "outputs": [],
   "source": [
    "import sqlite3\n"
   ]
  },
  {
   "cell_type": "code",
   "execution_count": 2,
   "metadata": {},
   "outputs": [],
   "source": [
    "connection = sqlite3.connect(\"student.db\")\n"
   ]
  },
  {
   "cell_type": "code",
   "execution_count": 4,
   "metadata": {},
   "outputs": [],
   "source": [
    "cursor=connection.cursor()"
   ]
  },
  {
   "cell_type": "code",
   "execution_count": 5,
   "metadata": {},
   "outputs": [],
   "source": [
    "table_info=\"\"\" Create table student (name varchar(255),class varchar(255),section varchar(255),marks int)\n",
    "\"\"\""
   ]
  },
  {
   "cell_type": "code",
   "execution_count": 6,
   "metadata": {},
   "outputs": [
    {
     "ename": "OperationalError",
     "evalue": "table student already exists",
     "output_type": "error",
     "traceback": [
      "\u001b[1;31m---------------------------------------------------------------------------\u001b[0m",
      "\u001b[1;31mOperationalError\u001b[0m                          Traceback (most recent call last)",
      "Cell \u001b[1;32mIn[6], line 1\u001b[0m\n\u001b[1;32m----> 1\u001b[0m \u001b[43mcursor\u001b[49m\u001b[38;5;241;43m.\u001b[39;49m\u001b[43mexecute\u001b[49m\u001b[43m(\u001b[49m\u001b[43mtable_info\u001b[49m\u001b[43m)\u001b[49m\n",
      "\u001b[1;31mOperationalError\u001b[0m: table student already exists"
     ]
    }
   ],
   "source": [
    "cursor.execute(table_info)"
   ]
  },
  {
   "cell_type": "code",
   "execution_count": 8,
   "metadata": {},
   "outputs": [
    {
     "name": "stdout",
     "output_type": "stream",
     "text": [
      "('Krish', 'Data Science', 'A', 90)\n",
      "('John', 'Data Science', 'B', 100)\n",
      "('Mukesh', 'Data Science', 'A', 86)\n",
      "('Jacob', 'DEVOPS', 'A', 50)\n",
      "('Dipesh', 'DEVOPS', 'A', 35)\n"
     ]
    }
   ],
   "source": [
    "cursor.execute('''insert into student values('Krish','Data Science','A',90)''')\n",
    "cursor.execute('''Insert Into STUDENT values('John','Data Science','B',100)''')\n",
    "cursor.execute('''Insert Into STUDENT values('Mukesh','Data Science','A',86)''')\n",
    "cursor.execute('''Insert Into STUDENT values('Jacob','DEVOPS','A',50)''')\n",
    "cursor.execute('''Insert Into STUDENT values('Dipesh','DEVOPS','A',35)''')\n",
    "data = cursor.execute('''select * from student''')\n",
    "for row in data:\n",
    "    print(row)\n",
    "\n",
    "# commite your changes in database\n",
    "connection.commit()\n",
    "connection.close()"
   ]
  },
  {
   "cell_type": "code",
   "execution_count": 19,
   "metadata": {},
   "outputs": [
    {
     "name": "stdout",
     "output_type": "stream",
     "text": [
      "('Krish', 'Data Science', 'A', 90)\n",
      "('John', 'Data Science', 'B', 100)\n",
      "('Mukesh', 'Data Science', 'A', 86)\n",
      "('Jacob', 'DEVOPS', 'A', 50)\n",
      "('Dipesh', 'DEVOPS', 'A', 35)\n"
     ]
    }
   ],
   "source": [
    "connection=sqlite3.connect('student.db')\n",
    "cursor=connection.cursor()\n",
    "cursor.execute('''select * from student''')\n",
    "data=cursor.fetchall()\n",
    "for row in data:\n",
    "    print(row)\n",
    "connection.commit()\n",
    "connection.close()"
   ]
  },
  {
   "cell_type": "code",
   "execution_count": 20,
   "metadata": {},
   "outputs": [
    {
     "ename": "NameError",
     "evalue": "name 'student' is not defined",
     "output_type": "error",
     "traceback": [
      "\u001b[1;31m---------------------------------------------------------------------------\u001b[0m",
      "\u001b[1;31mNameError\u001b[0m                                 Traceback (most recent call last)",
      "Cell \u001b[1;32mIn[20], line 1\u001b[0m\n\u001b[1;32m----> 1\u001b[0m \u001b[38;5;28mprint\u001b[39m(\u001b[43mstudent\u001b[49m\u001b[38;5;241m.\u001b[39mdb)\n",
      "\u001b[1;31mNameError\u001b[0m: name 'student' is not defined"
     ]
    }
   ],
   "source": [
    "print(student.db)"
   ]
  },
  {
   "cell_type": "code",
   "execution_count": null,
   "metadata": {},
   "outputs": [],
   "source": []
  },
  {
   "cell_type": "code",
   "execution_count": null,
   "metadata": {},
   "outputs": [],
   "source": []
  }
 ],
 "metadata": {
  "kernelspec": {
   "display_name": "Python 3",
   "language": "python",
   "name": "python3"
  },
  "language_info": {
   "codemirror_mode": {
    "name": "ipython",
    "version": 3
   },
   "file_extension": ".py",
   "mimetype": "text/x-python",
   "name": "python",
   "nbconvert_exporter": "python",
   "pygments_lexer": "ipython3",
   "version": "3.11.5"
  }
 },
 "nbformat": 4,
 "nbformat_minor": 2
}
